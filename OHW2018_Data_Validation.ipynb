{
 "cells": [
  {
   "cell_type": "markdown",
   "metadata": {},
   "source": [
    "# Data Validation"
   ]
  },
  {
   "cell_type": "markdown",
   "metadata": {},
   "source": [
    "Mooring Deployment Dates\n",
    "GI01SUMO-00002\t15 Aug 2015 – 19 Jul 2016\n",
    "GI03FLMA-00002\t18 Aug 2015 – 17 Jul 2016\n",
    "GI03FLMB-00002\t21 Aug 2015 – 18 Jul 2016\n",
    "\n",
    "CTD Cast times\n",
    "Irminger 2 CTD cast AT30-013 at GI01SUMO-00002\t  23 Aug 2015\t21:21-22:38 UTC\n",
    "Irminger 2 CTD cast AT30-010 at GI03FLMA-00002\t  19 Aug 2015\t22:08-23:18 UTC\n",
    "Irminger 2 CTD cast AT30-011 at GI03FLMB-00002\t  21 Aug 2015\t19:14-21:22 UTC\n",
    "\n",
    "Irminger 3 CTD cast AR0701-010 at GI01SUMO-00002\t16 Jul 2016 \t20:20-21:20 UTC\n",
    "Irminger 3 CTD cast AR0701-008 at GI03FLMA-00002\t12 Jul 2016 \t19:27-21:27 UTC\n",
    "Irminger 3 CTD cast AR0701-009 at GI03FLMB-00002\t13 Jul 2016 \t16:23-18:14 UTC\n"
   ]
  },
  {
   "cell_type": "markdown",
   "metadata": {},
   "source": []
  }
 ],
 "metadata": {
  "kernelspec": {
   "display_name": "Python 3",
   "language": "python",
   "name": "python3"
  },
  "language_info": {
   "codemirror_mode": {
    "name": "ipython",
    "version": 3
   },
   "file_extension": ".py",
   "mimetype": "text/x-python",
   "name": "python",
   "nbconvert_exporter": "python",
   "pygments_lexer": "ipython3",
   "version": "3.6.5"
  }
 },
 "nbformat": 4,
 "nbformat_minor": 2
}
