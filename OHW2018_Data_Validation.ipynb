{
 "cells": [
  {
   "cell_type": "markdown",
   "metadata": {},
   "source": [
    "# Data Validation"
   ]
  },
  {
   "cell_type": "raw",
   "metadata": {},
   "source": [
    "Mooring Deployment Dates\n",
    "GI01SUMO-00002\t15 Aug 2015 – 19 Jul 2016\n",
    "GI03FLMA-00002\t18 Aug 2015 – 17 Jul 2016\n",
    "GI03FLMB-00002\t21 Aug 2015 – 18 Jul 2016\n",
    "\n",
    "CTD Cast times\n",
    "Irminger 2 CTD cast AT30-013 at GI01SUMO-00002\t  23 Aug 2015\t21:21-22:38 UTC\n",
    "Irminger 2 CTD cast AT30-010 at GI03FLMA-00002\t  19 Aug 2015\t22:08-23:18 UTC\n",
    "Irminger 2 CTD cast AT30-011 at GI03FLMB-00002\t  21 Aug 2015\t19:14-21:22 UTC\n",
    "\n",
    "Irminger 3 CTD cast AR0701-010 at GI01SUMO-00002\t16 Jul 2016 \t20:20-21:20 UTC\n",
    "Irminger 3 CTD cast AR0701-008 at GI03FLMA-00002\t12 Jul 2016 \t19:27-21:27 UTC\n",
    "Irminger 3 CTD cast AR0701-009 at GI03FLMB-00002\t13 Jul 2016 \t16:23-18:14 UTC\n"
   ]
  },
  {
   "cell_type": "code",
   "execution_count": 1,
   "metadata": {},
   "outputs": [],
   "source": [
    "# Read in GI01SUMO-00002 start and end CTD files\n",
    "# CTD cast AT30-013 from Irminger 2 cruise\n",
    "\n",
    "# CTD cast AR0701-010 from Irminger 3 cruise\n"
   ]
  },
  {
   "cell_type": "markdown",
   "metadata": {},
   "source": [
    "# Download data via M2M"
   ]
  },
  {
   "cell_type": "code",
   "execution_count": 2,
   "metadata": {},
   "outputs": [
    {
     "name": "stderr",
     "output_type": "stream",
     "text": [
      "DEBUG:matplotlib.backends:backend module://ipykernel.pylab.backend_inline version unknown\n"
     ]
    }
   ],
   "source": [
    "# First, import the Python libraries we will need\n",
    "import requests\n",
    "import datetime\n",
    "import matplotlib.pyplot as plt\n",
    "import numpy as np\n",
    "import pandas as pd\n",
    "from seabird.cnv import fCNV"
   ]
  },
  {
   "cell_type": "code",
   "execution_count": 3,
   "metadata": {},
   "outputs": [],
   "source": [
    "# API Information\n",
    "USERNAME =''            # need to add\n",
    "TOKEN= ''               # need to add\n",
    "API_BASE_URL = 'https://ooinet.oceanobservatories.org/api/m2m/12576/sensor/inv/'"
   ]
  },
  {
   "cell_type": "code",
   "execution_count": 4,
   "metadata": {},
   "outputs": [
    {
     "name": "stdout",
     "output_type": "stream",
     "text": [
      "https://ooinet.oceanobservatories.org/api/m2m/12576/sensor/inv//GI03FLMA/RIM01/02-CTDMOG040/recovered_inst/ctdmo_ghqr_instrument_recovered\n",
      "https://ooinet.oceanobservatories.org/api/m2m/12576/sensor/inv//GI03FLMA/RIM01/02-CTDMOG041/recovered_inst/ctdmo_ghqr_instrument_recovered\n",
      "https://ooinet.oceanobservatories.org/api/m2m/12576/sensor/inv//GI03FLMA/RIM01/02-CTDMOG042/recovered_inst/ctdmo_ghqr_instrument_recovered\n",
      "https://ooinet.oceanobservatories.org/api/m2m/12576/sensor/inv//GI03FLMA/RIM01/02-CTDMOG043/recovered_inst/ctdmo_ghqr_instrument_recovered\n",
      "https://ooinet.oceanobservatories.org/api/m2m/12576/sensor/inv//GI03FLMA/RIM01/02-CTDMOG044/recovered_inst/ctdmo_ghqr_instrument_recovered\n",
      "https://ooinet.oceanobservatories.org/api/m2m/12576/sensor/inv//GI03FLMA/RIM01/02-CTDMOG045/recovered_inst/ctdmo_ghqr_instrument_recovered\n",
      "https://ooinet.oceanobservatories.org/api/m2m/12576/sensor/inv//GI03FLMA/RIM01/02-CTDMOG046/recovered_inst/ctdmo_ghqr_instrument_recovered\n",
      "https://ooinet.oceanobservatories.org/api/m2m/12576/sensor/inv//GI03FLMA/RIM01/02-CTDMOG047/recovered_inst/ctdmo_ghqr_instrument_recovered\n",
      "https://ooinet.oceanobservatories.org/api/m2m/12576/sensor/inv//GI03FLMA/RIM01/02-CTDMOG048/recovered_inst/ctdmo_ghqr_instrument_recovered\n",
      "https://ooinet.oceanobservatories.org/api/m2m/12576/sensor/inv//GI03FLMA/RIM01/02-CTDMOH049/recovered_inst/ctdmo_ghqr_instrument_recovered\n",
      "https://ooinet.oceanobservatories.org/api/m2m/12576/sensor/inv//GI03FLMA/RIM01/02-CTDMOH050/recovered_inst/ctdmo_ghqr_instrument_recovered\n",
      "https://ooinet.oceanobservatories.org/api/m2m/12576/sensor/inv//GI03FLMA/RIM01/02-CTDMOH051/recovered_inst/ctdmo_ghqr_instrument_recovered\n"
     ]
    }
   ],
   "source": [
    "# Instrument Information\n",
    "beginDT = '2015-08-18T00:00:01.500Z' \n",
    "endDT = '2015-08-20T00:00:01.500Z'\n",
    "\n",
    "site = 'GI03FLMA'\n",
    "node = 'RIM01'\n",
    "instrument_G = '02-CTDMOG0'\n",
    "instrument_H = '02-CTDMOH0'\n",
    "method = 'recovered_inst'\n",
    "stream = 'ctdmo_ghqr_instrument_recovered'\n",
    "\n",
    "iid = [40, 41, 42, 43, 44, 45, 46, 47, 48, 49, 50, 51]\n",
    "\n",
    "for i in iid:\n",
    "    if i < 49:\n",
    "        instrument = ''.join((instrument_G,str(i)))\n",
    "        data_request_url ='/'.join((API_BASE_URL,site,node,instrument,method,stream))\n",
    "        print (data_request_url)\n",
    "    else:\n",
    "        instrument = ''.join((instrument_H,str(i)))\n",
    "        data_request_url ='/'.join((API_BASE_URL,site,node,instrument,method,stream))\n",
    "        print (data_request_url)\n",
    "\n",
    "\n",
    "params = {\n",
    "  'beginDT':beginDT,\n",
    "  'endDT':endDT,   \n",
    "  'limit':1000,   \n",
    "}\n",
    "# https://ooinet.oceanobservatories.org/api/m2m/12576/sensor/inv/GI03FLMA/RIM01/02-CTDMOG040/metadata"
   ]
  },
  {
   "cell_type": "code",
   "execution_count": 5,
   "metadata": {},
   "outputs": [
    {
     "name": "stderr",
     "output_type": "stream",
     "text": [
      "DEBUG:urllib3.connectionpool:Starting new HTTPS connection (1): ooinet.oceanobservatories.org\n",
      "DEBUG:urllib3.connectionpool:https://ooinet.oceanobservatories.org:443 \"GET /api/m2m/12576/sensor/inv//GI03FLMA/RIM01/02-CTDMOH051/recovered_inst/ctdmo_ghqr_instrument_recovered?beginDT=2015-08-18T00%3A00%3A01.500Z&endDT=2015-08-20T00%3A00%3A01.500Z&limit=1000 HTTP/1.1\" 200 None\n"
     ]
    }
   ],
   "source": [
    "# Grab the data\n",
    "r = requests.get(data_request_url, params=params, auth=(USERNAME, TOKEN))\n",
    "data = r.json()"
   ]
  },
  {
   "cell_type": "markdown",
   "metadata": {},
   "source": [
    "# Download Shipboard CTD Data"
   ]
  },
  {
   "cell_type": "code",
   "execution_count": 6,
   "metadata": {},
   "outputs": [
    {
     "data": {
      "text/html": [
       "<div>\n",
       "<style scoped>\n",
       "    .dataframe tbody tr th:only-of-type {\n",
       "        vertical-align: middle;\n",
       "    }\n",
       "\n",
       "    .dataframe tbody tr th {\n",
       "        vertical-align: top;\n",
       "    }\n",
       "\n",
       "    .dataframe thead th {\n",
       "        text-align: right;\n",
       "    }\n",
       "</style>\n",
       "<table border=\"1\" class=\"dataframe\">\n",
       "  <thead>\n",
       "    <tr style=\"text-align: right;\">\n",
       "      <th></th>\n",
       "      <th>0</th>\n",
       "      <th>1</th>\n",
       "      <th>2</th>\n",
       "      <th>3</th>\n",
       "      <th>Pressure</th>\n",
       "      <th>Temperature</th>\n",
       "      <th>6</th>\n",
       "      <th>7</th>\n",
       "      <th>8</th>\n",
       "      <th>9</th>\n",
       "      <th>...</th>\n",
       "      <th>26</th>\n",
       "      <th>27</th>\n",
       "      <th>Salinity</th>\n",
       "      <th>29</th>\n",
       "      <th>30</th>\n",
       "      <th>31</th>\n",
       "      <th>32</th>\n",
       "      <th>33</th>\n",
       "      <th>34</th>\n",
       "      <th>35</th>\n",
       "    </tr>\n",
       "  </thead>\n",
       "  <tbody>\n",
       "    <tr>\n",
       "      <th>0</th>\n",
       "      <td>-2.754</td>\n",
       "      <td>-39.88063</td>\n",
       "      <td>59.76186</td>\n",
       "      <td>2.0</td>\n",
       "      <td>2.019</td>\n",
       "      <td>8.3474</td>\n",
       "      <td>8.3478</td>\n",
       "      <td>3.639185</td>\n",
       "      <td>3.639169</td>\n",
       "      <td>92.7649</td>\n",
       "      <td>...</td>\n",
       "      <td>1027.1091</td>\n",
       "      <td>1027.1088</td>\n",
       "      <td>34.8458</td>\n",
       "      <td>34.8453</td>\n",
       "      <td>1483.62</td>\n",
       "      <td>1483.62</td>\n",
       "      <td>6.56516</td>\n",
       "      <td>0.153</td>\n",
       "      <td>0.0003</td>\n",
       "      <td>0.0</td>\n",
       "    </tr>\n",
       "    <tr>\n",
       "      <th>1</th>\n",
       "      <td>17.507</td>\n",
       "      <td>-39.88058</td>\n",
       "      <td>59.76184</td>\n",
       "      <td>3.0</td>\n",
       "      <td>3.029</td>\n",
       "      <td>8.3456</td>\n",
       "      <td>8.3464</td>\n",
       "      <td>3.639063</td>\n",
       "      <td>3.639088</td>\n",
       "      <td>92.7620</td>\n",
       "      <td>...</td>\n",
       "      <td>1027.1140</td>\n",
       "      <td>1027.1135</td>\n",
       "      <td>34.8458</td>\n",
       "      <td>34.8453</td>\n",
       "      <td>1483.63</td>\n",
       "      <td>1483.63</td>\n",
       "      <td>6.57307</td>\n",
       "      <td>0.093</td>\n",
       "      <td>0.0007</td>\n",
       "      <td>0.0</td>\n",
       "    </tr>\n",
       "    <tr>\n",
       "      <th>2</th>\n",
       "      <td>30.594</td>\n",
       "      <td>-39.88058</td>\n",
       "      <td>59.76184</td>\n",
       "      <td>4.0</td>\n",
       "      <td>4.038</td>\n",
       "      <td>8.3471</td>\n",
       "      <td>8.3473</td>\n",
       "      <td>3.639240</td>\n",
       "      <td>3.639225</td>\n",
       "      <td>92.7873</td>\n",
       "      <td>...</td>\n",
       "      <td>1027.1184</td>\n",
       "      <td>1027.1182</td>\n",
       "      <td>34.8458</td>\n",
       "      <td>34.8454</td>\n",
       "      <td>1483.65</td>\n",
       "      <td>1483.65</td>\n",
       "      <td>6.57782</td>\n",
       "      <td>0.277</td>\n",
       "      <td>0.0002</td>\n",
       "      <td>0.0</td>\n",
       "    </tr>\n",
       "    <tr>\n",
       "      <th>3</th>\n",
       "      <td>33.006</td>\n",
       "      <td>-39.88056</td>\n",
       "      <td>59.76185</td>\n",
       "      <td>5.0</td>\n",
       "      <td>5.048</td>\n",
       "      <td>8.3498</td>\n",
       "      <td>8.3489</td>\n",
       "      <td>3.639542</td>\n",
       "      <td>3.639416</td>\n",
       "      <td>92.8015</td>\n",
       "      <td>...</td>\n",
       "      <td>1027.1227</td>\n",
       "      <td>1027.1224</td>\n",
       "      <td>34.8458</td>\n",
       "      <td>34.8454</td>\n",
       "      <td>1483.68</td>\n",
       "      <td>1483.68</td>\n",
       "      <td>6.57183</td>\n",
       "      <td>0.160</td>\n",
       "      <td>-0.0009</td>\n",
       "      <td>0.0</td>\n",
       "    </tr>\n",
       "    <tr>\n",
       "      <th>4</th>\n",
       "      <td>37.520</td>\n",
       "      <td>-39.88055</td>\n",
       "      <td>59.76185</td>\n",
       "      <td>6.0</td>\n",
       "      <td>6.057</td>\n",
       "      <td>8.3492</td>\n",
       "      <td>8.3496</td>\n",
       "      <td>3.639540</td>\n",
       "      <td>3.639533</td>\n",
       "      <td>92.8086</td>\n",
       "      <td>...</td>\n",
       "      <td>1027.1273</td>\n",
       "      <td>1027.1270</td>\n",
       "      <td>34.8458</td>\n",
       "      <td>34.8454</td>\n",
       "      <td>1483.70</td>\n",
       "      <td>1483.70</td>\n",
       "      <td>6.57168</td>\n",
       "      <td>0.175</td>\n",
       "      <td>0.0003</td>\n",
       "      <td>0.0</td>\n",
       "    </tr>\n",
       "  </tbody>\n",
       "</table>\n",
       "<p>5 rows × 36 columns</p>\n",
       "</div>"
      ],
      "text/plain": [
       "        0         1         2    3  Pressure  Temperature       6         7  \\\n",
       "0  -2.754 -39.88063  59.76186  2.0     2.019       8.3474  8.3478  3.639185   \n",
       "1  17.507 -39.88058  59.76184  3.0     3.029       8.3456  8.3464  3.639063   \n",
       "2  30.594 -39.88058  59.76184  4.0     4.038       8.3471  8.3473  3.639240   \n",
       "3  33.006 -39.88056  59.76185  5.0     5.048       8.3498  8.3489  3.639542   \n",
       "4  37.520 -39.88055  59.76185  6.0     6.057       8.3492  8.3496  3.639540   \n",
       "\n",
       "          8        9 ...          26         27  Salinity       29       30  \\\n",
       "0  3.639169  92.7649 ...   1027.1091  1027.1088   34.8458  34.8453  1483.62   \n",
       "1  3.639088  92.7620 ...   1027.1140  1027.1135   34.8458  34.8453  1483.63   \n",
       "2  3.639225  92.7873 ...   1027.1184  1027.1182   34.8458  34.8454  1483.65   \n",
       "3  3.639416  92.8015 ...   1027.1227  1027.1224   34.8458  34.8454  1483.68   \n",
       "4  3.639533  92.8086 ...   1027.1273  1027.1270   34.8458  34.8454  1483.70   \n",
       "\n",
       "        31       32     33      34   35  \n",
       "0  1483.62  6.56516  0.153  0.0003  0.0  \n",
       "1  1483.63  6.57307  0.093  0.0007  0.0  \n",
       "2  1483.65  6.57782  0.277  0.0002  0.0  \n",
       "3  1483.68  6.57183  0.160 -0.0009  0.0  \n",
       "4  1483.70  6.57168  0.175  0.0003  0.0  \n",
       "\n",
       "[5 rows x 36 columns]"
      ]
     },
     "execution_count": 6,
     "metadata": {},
     "output_type": "execute_result"
    }
   ],
   "source": [
    "CTD_cast_name1 = 'at30_010'\n",
    "CTD_cast_name2 = 'at30_011'\n",
    "CTD_cast_name3 = 'at30_013'\n",
    "\n",
    "CTD_file1 = 'https://alfresco.oceanobservatories.org/alfresco/d/d/workspace/SpacesStore/c186cd01-7b75-48d3-b0e9-61b19cab40c9/at30_010_full.asc'\n",
    "CTD_file2 = 'https://alfresco.oceanobservatories.org/alfresco/d/d/workspace/SpacesStore/3011c9b0-ce0e-4a1b-bb2e-1b4522903880/at30_011_full.asc'\n",
    "CTD_file3 = 'https://alfresco.oceanobservatories.org/alfresco/d/d/workspace/SpacesStore/810ce28c-feb4-4b35-85de-8197fafc030f/at30_013_full.asc'\n",
    "\n",
    "# Read in the data file without headers due to a bug in the file (two of the header names run together)\n",
    "CTD_data1 = pd.read_table(CTD_file1, delim_whitespace=True, header=None)\n",
    "#CTD_data2 = pd.read_table(CTD_file2, delim_whitespace=True, header=None)\n",
    "#CTD_data3 = pd.read_table(CTD_file3, delim_whitespace=True, header=None)\n",
    "\n",
    "# Add back the necessary headers\n",
    "CTD_data = CTD_data1.rename(columns={4:'Pressure', 5:'Temperature', 28:'Salinity'})\n",
    "# CTD_data = CTD_data2.rename(columns={4:'Pressure', 5:'Temperature', 28:'Salinity'})\n",
    "# CTD_data = CTD_data3.rename(columns={4:'Pressure', 5:'Temperature', 28:'Salinity'})\n",
    "\n",
    "CTD_cast_name = CTD_cast_name1\n",
    "\n",
    "CTD_data.head()\n",
    "\n"
   ]
  },
  {
   "cell_type": "code",
   "execution_count": 7,
   "metadata": {},
   "outputs": [
    {
     "name": "stderr",
     "output_type": "stream",
     "text": [
      "DEBUG:matplotlib.font_manager:findfont: Matching :family=sans-serif:style=normal:variant=normal:weight=normal:stretch=normal:size=10.0 to DejaVu Sans ('/Users/Sheri/anaconda3/lib/python3.6/site-packages/matplotlib/mpl-data/fonts/ttf/DejaVuSans.ttf') with score of 0.050000\n",
      "DEBUG:matplotlib.font_manager:findfont: Matching :family=sans-serif:style=normal:variant=normal:weight=normal:stretch=normal:size=8.33 to DejaVu Sans ('/Users/Sheri/anaconda3/lib/python3.6/site-packages/matplotlib/mpl-data/fonts/ttf/DejaVuSans.ttf') with score of 0.050000\n",
      "DEBUG:matplotlib.font_manager:findfont: Matching :family=sans-serif:style=normal:variant=normal:weight=normal:stretch=normal:size=12.0 to DejaVu Sans ('/Users/Sheri/anaconda3/lib/python3.6/site-packages/matplotlib/mpl-data/fonts/ttf/DejaVuSans.ttf') with score of 0.050000\n"
     ]
    },
    {
     "data": {
      "image/png": "[encoded data removed]",
      "text/plain": [
       "<Figure size 432x288 with 2 Axes>"
      ]
     },
     "metadata": {},
     "output_type": "display_data"
    }
   ],
   "source": [
    "# Now let's plot the Cruise CTD data\n",
    "fig, (ax1, ax2) = plt.subplots(1, 2, sharey=True)\n",
    "\n",
    "ax1.plot(CTD_data.Temperature,CTD_data.Pressure,'b')\n",
    "ax1.set_xlabel('Temperature (C)')\n",
    "ax1.set_ylabel('Pressure (dm)')\n",
    "ax1.invert_yaxis()\n",
    "ax1.set_ylim(1750,0)\n",
    "\n",
    "ax2.plot(CTD_data.Salinity,CTD_data.Pressure,'b',label='Cruise CTD')\n",
    "ax2.set_xlabel('Salinity (psu)')\n",
    "\n",
    "fig.suptitle(CTD_cast_name)\n",
    "fig.subplots_adjust(top=0.9)\n",
    "\n",
    "legend = ax2.legend(loc='lower right', shadow=True, fontsize='small');"
   ]
  },
  {
   "cell_type": "code",
   "execution_count": 7,
   "metadata": {},
   "outputs": [
    {
     "name": "stderr",
     "output_type": "stream",
     "text": [
      "DEBUG:root:Openning file: /Users/Sheri/Oceanography/OOI/GitHub/ohw2018_Data_Validation/data/AT30_cruise/at30_010.cnv\n"
     ]
    },
    {
     "data": {
      "text/plain": [
       "{'sbe_model': '9',\n",
       " 'LATITUDE': 59.761833333333335,\n",
       " 'LONGITUDE': -39.88066666666667,\n",
       " 'gps_datetime': 'Aug 19 2015  21:15:33',\n",
       " 'seasave': 'V 7.21f',\n",
       " 'instrument_type': 'CTD',\n",
       " 'nquan': '36',\n",
       " 'nvalues': '5374',\n",
       " 'start_time': 'Aug 19 2015 21:15:33 [NMEA time, header]',\n",
       " 'bad_flag': '-9.990e-29',\n",
       " 'file_type': 'ascii',\n",
       " 'md5': '17c273ec7cc23566961e1d000fb37549',\n",
       " 'datetime': datetime.datetime(2015, 8, 19, 21, 15, 33),\n",
       " 'filename': 'at30_010.cnv'}"
      ]
     },
     "execution_count": 7,
     "metadata": {},
     "output_type": "execute_result"
    }
   ],
   "source": [
    "# From the DATA TEAM notebooks\n",
    "# We will use a package that was written to work with Sea-Bird *.cnv files called seabird. The function to open the \n",
    "# *.cnv file is fCNV(<file>). Per the author: 'this is not an official package, so if you have trouble with it, \n",
    "# do not complain to Sea-Bird.'\n",
    "# https://github.com/castelao/seabird\n",
    "\n",
    "f = '/Users/Sheri/Oceanography/OOI/GitHub/ohw2018_Data_Validation/data/AT30_cruise/at30_010.cnv' # change this filepath\n",
    "ctddata = fCNV(f)\n",
    "ctddata.attributes # list the attributes from the file"
   ]
  },
  {
   "cell_type": "code",
   "execution_count": 8,
   "metadata": {},
   "outputs": [
    {
     "data": {
      "text/plain": [
       "['timeS',\n",
       " 'LONGITUDE',\n",
       " 'LATITUDE',\n",
       " 'DEPTH',\n",
       " 'PRES',\n",
       " 'TEMP',\n",
       " 'TEMP2',\n",
       " 'CNDC',\n",
       " 'CNDC2',\n",
       " 'CStarTr0',\n",
       " 'flECO-AFL',\n",
       " 'oxigenvoltage',\n",
       " 'altM',\n",
       " 'nbf',\n",
       " 'density',\n",
       " 'density',\n",
       " 'PSAL',\n",
       " 'PSAL2',\n",
       " 'soundspeed',\n",
       " 'svCM1',\n",
       " 'timeS',\n",
       " 'oxigen_ml_L',\n",
       " 'sbeox0PS',\n",
       " 'descentrate',\n",
       " 'T2-T190C',\n",
       " 'DEPTH',\n",
       " 'density',\n",
       " 'density',\n",
       " 'PSAL',\n",
       " 'PSAL2',\n",
       " 'soundspeed',\n",
       " 'svCM1',\n",
       " 'oxigen_ml_L',\n",
       " 'descentrate',\n",
       " 'T2-T190C',\n",
       " 'flag']"
      ]
     },
     "execution_count": 8,
     "metadata": {},
     "output_type": "execute_result"
    }
   ],
   "source": [
    "ctddata.keys() # list the variables in the .cnv file"
   ]
  },
  {
   "cell_type": "code",
   "execution_count": 9,
   "metadata": {},
   "outputs": [],
   "source": [
    "# Select the data from the shipboard CTD file that you would like to plot. In this example, we will select pressure\n",
    "# and temperature to create a profile plot.\n",
    "\n",
    "ctd_cast_pres = ctddata['PRES'].data\n",
    "ctd_cast_temp = ctddata['TEMP'].data\n",
    "ctd_cast_sal = ctddata['PSAL'].data"
   ]
  },
  {
   "cell_type": "code",
   "execution_count": 15,
   "metadata": {},
   "outputs": [
    {
     "data": {
      "image/png": "[encoded data removed]",
      "text/plain": [
       "<Figure size 432x288 with 2 Axes>"
      ]
     },
     "metadata": {},
     "output_type": "display_data"
    }
   ],
   "source": [
    "fig, (ax1, ax2) = plt.subplots(1, 2, sharey=True)\n",
    "ax1.plot(ctd_cast_temp, ctd_cast_pres, 'b', label='Cruise CTD')\n",
    "ax1.set_ylabel('Pressure (dbar)')\n",
    "ax1.set_xlabel('Temperature (deg C)')\n",
    "ax1.invert_yaxis()\n",
    "ax1.grid()\n",
    "ax1.legend(loc='best')\n",
    "\n",
    "ax2.plot(ctd_cast_sal, ctd_cast_pres, 'b')\n",
    "ax2.set_ylabel('Pressure (dbar)')\n",
    "ax2.set_xlabel('Practical Salinity')\n",
    "ax2.grid()\n",
    "\n",
    "# fig.suptitle('{} vs. Shipboard CTD'.format(refdes), fontsize=10)\n",
    "fig.suptitle(CTD_cast_name)\n",
    "fig.subplots_adjust(top=0.9)\n",
    "plt.show()"
   ]
  },
  {
   "cell_type": "markdown",
   "metadata": {},
   "source": [
    "# Water Sampling Data"
   ]
  },
  {
   "cell_type": "code",
   "execution_count": 22,
   "metadata": {},
   "outputs": [
    {
     "data": {
      "text/html": [
       "<div>\n",
       "<style scoped>\n",
       "    .dataframe tbody tr th:only-of-type {\n",
       "        vertical-align: middle;\n",
       "    }\n",
       "\n",
       "    .dataframe tbody tr th {\n",
       "        vertical-align: top;\n",
       "    }\n",
       "\n",
       "    .dataframe thead th {\n",
       "        text-align: right;\n",
       "    }\n",
       "</style>\n",
       "<table border=\"1\" class=\"dataframe\">\n",
       "  <thead>\n",
       "    <tr style=\"text-align: right;\">\n",
       "      <th></th>\n",
       "      <th>Pressure</th>\n",
       "      <th>Salinity</th>\n",
       "    </tr>\n",
       "  </thead>\n",
       "  <tbody>\n",
       "    <tr>\n",
       "      <th>0</th>\n",
       "      <td>2729.3</td>\n",
       "      <td>34.8977</td>\n",
       "    </tr>\n",
       "    <tr>\n",
       "      <th>1</th>\n",
       "      <td>2438.1</td>\n",
       "      <td>34.9284</td>\n",
       "    </tr>\n",
       "    <tr>\n",
       "      <th>2</th>\n",
       "      <td>2131.0</td>\n",
       "      <td>34.9315</td>\n",
       "    </tr>\n",
       "    <tr>\n",
       "      <th>3</th>\n",
       "      <td>1825.3</td>\n",
       "      <td>34.9307</td>\n",
       "    </tr>\n",
       "    <tr>\n",
       "      <th>4</th>\n",
       "      <td>1520.1</td>\n",
       "      <td>34.9311</td>\n",
       "    </tr>\n",
       "  </tbody>\n",
       "</table>\n",
       "</div>"
      ],
      "text/plain": [
       "   Pressure  Salinity\n",
       "0    2729.3   34.8977\n",
       "1    2438.1   34.9284\n",
       "2    2131.0   34.9315\n",
       "3    1825.3   34.9307\n",
       "4    1520.1   34.9311"
      ]
     },
     "execution_count": 22,
     "metadata": {},
     "output_type": "execute_result"
    }
   ],
   "source": [
    "# Change this location for different CTD Cast water sample data\n",
    "ws_file_1 = '/Users/Sheri/Oceanography/OOI/GitHub/ohw2018_Data_Validation/data/AT30_cruise/at30_010_sample_data.csv' # change this filepath\n",
    "\n",
    "ws_data = pd.read_csv(ws_file_1, usecols=['Pressure', 'Salinity'])\n",
    "ws_data.head()"
   ]
  },
  {
   "cell_type": "markdown",
   "metadata": {},
   "source": [
    "# Overplot datasets"
   ]
  },
  {
   "cell_type": "code",
   "execution_count": 30,
   "metadata": {},
   "outputs": [
    {
     "data": {
      "text/plain": [
       "0    34.8977\n",
       "1    34.9284\n",
       "2    34.9315\n",
       "3    34.9307\n",
       "4    34.9311\n",
       "Name: Salinity, dtype: float64"
      ]
     },
     "execution_count": 30,
     "metadata": {},
     "output_type": "execute_result"
    }
   ],
   "source": [
    "ws_pres = ws_data.Pressure\n",
    "ws_sal = ws_data.Salinity\n",
    "\n",
    "ws_sal.head()"
   ]
  },
  {
   "cell_type": "code",
   "execution_count": 33,
   "metadata": {},
   "outputs": [
    {
     "data": {
      "image/png": "[encoded data removed]",
      "text/plain": [
       "<Figure size 432x288 with 2 Axes>"
      ]
     },
     "metadata": {},
     "output_type": "display_data"
    }
   ],
   "source": [
    "fig, (ax1, ax2) = plt.subplots(1, 2, sharey=True)\n",
    "ax1.plot(ctd_cast_temp, ctd_cast_pres, 'b', label='Cruise CTD')\n",
    "ax1.set_ylabel('Pressure (dbar)')\n",
    "ax1.set_xlabel('Temperature (deg C)')\n",
    "ax1.invert_yaxis()\n",
    "ax1.grid()\n",
    "ax1.legend(loc='best')\n",
    "\n",
    "ax2.plot(ctd_cast_sal, ctd_cast_pres, 'b')\n",
    "ax2.plot(ws_sal, ws_pres, 'r*')\n",
    "ax2.set_ylabel('Pressure (dbar)')\n",
    "ax2.set_xlabel('Practical Salinity')\n",
    "ax2.grid()\n",
    "\n",
    "# fig.suptitle('{} vs. Shipboard CTD'.format(refdes), fontsize=10)\n",
    "fig.suptitle(CTD_cast_name)\n",
    "fig.subplots_adjust(top=0.9)\n",
    "plt.show()"
   ]
  },
  {
   "cell_type": "code",
   "execution_count": null,
   "metadata": {},
   "outputs": [],
   "source": []
  }
 ],
 "metadata": {
  "kernelspec": {
   "display_name": "Python 3",
   "language": "python",
   "name": "python3"
  },
  "language_info": {
   "codemirror_mode": {
    "name": "ipython",
    "version": 3
   },
   "file_extension": ".py",
   "mimetype": "text/x-python",
   "name": "python",
   "nbconvert_exporter": "python",
   "pygments_lexer": "ipython3",
   "version": "3.6.5"
  }
 },
 "nbformat": 4,
 "nbformat_minor": 2
}
