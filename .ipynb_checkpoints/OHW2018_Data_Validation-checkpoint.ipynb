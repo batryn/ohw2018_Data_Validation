{
 "cells": [
  {
   "cell_type": "markdown",
   "metadata": {},
   "source": [
    "# Data Validation"
   ]
  },
  {
   "cell_type": "raw",
   "metadata": {},
   "source": [
    "Mooring Deployment Dates\n",
    "GI01SUMO-00002\t15 Aug 2015 – 19 Jul 2016\n",
    "GI03FLMA-00002\t18 Aug 2015 – 17 Jul 2016\n",
    "GI03FLMB-00002\t21 Aug 2015 – 18 Jul 2016\n",
    "\n",
    "CTD Cast times\n",
    "Irminger 2 CTD cast AT30-013 at GI01SUMO-00002\t  23 Aug 2015\t21:21-22:38 UTC\n",
    "Irminger 2 CTD cast AT30-010 at GI03FLMA-00002\t  19 Aug 2015\t22:08-23:18 UTC\n",
    "Irminger 2 CTD cast AT30-011 at GI03FLMB-00002\t  21 Aug 2015\t19:14-21:22 UTC\n",
    "\n",
    "Irminger 3 CTD cast AR0701-010 at GI01SUMO-00002\t16 Jul 2016 \t20:20-21:20 UTC\n",
    "Irminger 3 CTD cast AR0701-008 at GI03FLMA-00002\t12 Jul 2016 \t19:27-21:27 UTC\n",
    "Irminger 3 CTD cast AR0701-009 at GI03FLMB-00002\t13 Jul 2016 \t16:23-18:14 UTC\n"
   ]
  },
  {
   "cell_type": "code",
   "execution_count": null,
   "metadata": {},
   "outputs": [],
   "source": [
    "# Read in GI01SUMO-00002 start and end CTD files\n",
    "# CTD cast AT30-013 from Irminger 2 cruise\n",
    "\n",
    "# CTD cast AR0701-010 from Irminger 3 cruise\n"
   ]
  },
  {
   "cell_type": "markdown",
   "metadata": {},
   "source": [
    "# Download data via M2M"
   ]
  },
  {
   "cell_type": "code",
   "execution_count": 2,
   "metadata": {},
   "outputs": [],
   "source": [
    "# First, import the Python libraries we will need\n",
    "import requests\n",
    "import datetime\n",
    "import matplotlib.pyplot as plt\n",
    "import numpy as np\n",
    "import pandas as pd"
   ]
  },
  {
   "cell_type": "code",
   "execution_count": 3,
   "metadata": {},
   "outputs": [],
   "source": [
    "# API Information\n",
    "USERNAME ='OOIAPI-B3XI9P6PELFA9I'  # for SNW\n",
    "TOKEN= '95QOG88B1NS'               # for SNW\n",
    "API_BASE_URL = 'https://ooinet.oceanobservatories.org/api/m2m/12576/sensor/inv/'"
   ]
  },
  {
   "cell_type": "code",
   "execution_count": 9,
   "metadata": {},
   "outputs": [
    {
     "name": "stdout",
     "output_type": "stream",
     "text": [
      "https://ooinet.oceanobservatories.org/api/m2m/12576/sensor/inv//GI03FLMA/RIM01/02-CTDMOG040/recovered_inst/ctdmo_ghqr_instrument_recovered\n",
      "https://ooinet.oceanobservatories.org/api/m2m/12576/sensor/inv//GI03FLMA/RIM01/02-CTDMOG041/recovered_inst/ctdmo_ghqr_instrument_recovered\n",
      "https://ooinet.oceanobservatories.org/api/m2m/12576/sensor/inv//GI03FLMA/RIM01/02-CTDMOG042/recovered_inst/ctdmo_ghqr_instrument_recovered\n",
      "https://ooinet.oceanobservatories.org/api/m2m/12576/sensor/inv//GI03FLMA/RIM01/02-CTDMOG043/recovered_inst/ctdmo_ghqr_instrument_recovered\n",
      "https://ooinet.oceanobservatories.org/api/m2m/12576/sensor/inv//GI03FLMA/RIM01/02-CTDMOG044/recovered_inst/ctdmo_ghqr_instrument_recovered\n",
      "https://ooinet.oceanobservatories.org/api/m2m/12576/sensor/inv//GI03FLMA/RIM01/02-CTDMOG045/recovered_inst/ctdmo_ghqr_instrument_recovered\n",
      "https://ooinet.oceanobservatories.org/api/m2m/12576/sensor/inv//GI03FLMA/RIM01/02-CTDMOG046/recovered_inst/ctdmo_ghqr_instrument_recovered\n",
      "https://ooinet.oceanobservatories.org/api/m2m/12576/sensor/inv//GI03FLMA/RIM01/02-CTDMOG047/recovered_inst/ctdmo_ghqr_instrument_recovered\n",
      "https://ooinet.oceanobservatories.org/api/m2m/12576/sensor/inv//GI03FLMA/RIM01/02-CTDMOG048/recovered_inst/ctdmo_ghqr_instrument_recovered\n",
      "https://ooinet.oceanobservatories.org/api/m2m/12576/sensor/inv//GI03FLMA/RIM01/02-CTDMOH049/recovered_inst/ctdmo_ghqr_instrument_recovered\n",
      "https://ooinet.oceanobservatories.org/api/m2m/12576/sensor/inv//GI03FLMA/RIM01/02-CTDMOH050/recovered_inst/ctdmo_ghqr_instrument_recovered\n",
      "https://ooinet.oceanobservatories.org/api/m2m/12576/sensor/inv//GI03FLMA/RIM01/02-CTDMOH051/recovered_inst/ctdmo_ghqr_instrument_recovered\n"
     ]
    }
   ],
   "source": [
    "# Instrument Information\n",
    "beginDT = '2015-08-18T00:00:01.500Z' \n",
    "endDT = '2015-08-20T00:00:01.500Z'\n",
    "\n",
    "site = 'GI03FLMA'\n",
    "node = 'RIM01'\n",
    "instrument_G = '02-CTDMOG0'\n",
    "instrument_H = '02-CTDMOH0'\n",
    "method = 'recovered_inst'\n",
    "stream = 'ctdmo_ghqr_instrument_recovered'\n",
    "\n",
    "iid = [40, 41, 42, 43, 44, 45, 46, 47, 48, 49, 50, 51]\n",
    "\n",
    "for i in iid:\n",
    "    if i < 49:\n",
    "        instrument = ''.join((instrument_G,str(i)))\n",
    "        data_request_url ='/'.join((API_BASE_URL,site,node,instrument,method,stream))\n",
    "        print (data_request_url)\n",
    "    else:\n",
    "        instrument = ''.join((instrument_H,str(i)))\n",
    "        data_request_url ='/'.join((API_BASE_URL,site,node,instrument,method,stream))\n",
    "        print (data_request_url)\n",
    "\n",
    "\n",
    "params = {\n",
    "  'beginDT':beginDT,\n",
    "  'endDT':endDT,   \n",
    "  'limit':1000,   \n",
    "}\n",
    "# https://ooinet.oceanobservatories.org/api/m2m/12576/sensor/inv/GI03FLMA/RIM01/02-CTDMOG040/metadata"
   ]
  },
  {
   "cell_type": "code",
   "execution_count": null,
   "metadata": {},
   "outputs": [],
   "source": [
    "# Grab the data\n",
    "r = requests.get(data_request_url, params=params, auth=(USERNAME, TOKEN))\n",
    "data = r.json()"
   ]
  }
 ],
 "metadata": {
  "kernelspec": {
   "display_name": "Python 3",
   "language": "python",
   "name": "python3"
  },
  "language_info": {
   "codemirror_mode": {
    "name": "ipython",
    "version": 3
   },
   "file_extension": ".py",
   "mimetype": "text/x-python",
   "name": "python",
   "nbconvert_exporter": "python",
   "pygments_lexer": "ipython3",
   "version": "3.6.5"
  }
 },
 "nbformat": 4,
 "nbformat_minor": 2
}
